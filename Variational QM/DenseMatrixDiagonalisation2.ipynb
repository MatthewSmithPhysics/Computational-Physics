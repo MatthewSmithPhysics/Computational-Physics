{
 "cells": [
  {
   "cell_type": "markdown",
   "metadata": {},
   "source": [
    "# **Diagonalisation of Hermitian Matrices**"
   ]
  },
  {
   "cell_type": "markdown",
   "metadata": {},
   "source": [
    "#### Matthew Smith"
   ]
  },
  {
   "cell_type": "markdown",
   "metadata": {},
   "source": [
    "## **Imports**"
   ]
  },
  {
   "cell_type": "code",
   "execution_count": 3,
   "metadata": {},
   "outputs": [],
   "source": [
    "import numpy\n",
    "import numpy.random as random\n",
    "import matplotlib.pyplot as pyplot\n",
    "import time\n",
    "from numpy import transpose, cos, sin, log, sqrt\n",
    "import sys"
   ]
  },
  {
   "cell_type": "markdown",
   "metadata": {},
   "source": [
    "## **Introduction**"
   ]
  },
  {
   "cell_type": "markdown",
   "metadata": {},
   "source": [
    "Matrix diagonalisation is a very important problem in many areas of physics. Diagonalsing a matrix $A$ consists of finding a diagonal matrix $D$ and matrix $M$ such that,\n",
    "\n",
    "$$D = M^* A M \\text{ .}$$\n",
    "\n",
    "**Diagonal Matrix**: A matrix whose elements are all zero, apart from those on the primary diagonal.\n",
    "\n",
    "When solved, the elements $\\lambda_j = D_{jj}$ are in-fact the eigenvalues of $A$, and collumns $\\vec{v}_j = (M_{ij})_i$ are the corresponing eigenvectors. These quantities are such that,\n",
    "\n",
    "$$A\\vec{v}_j = \\lambda_j \\vec{v}_j \\text{ .}$$\n",
    "\n",
    "Since many differential equations may be stated in this form (after fixing a basis), the process of diagonalisation can prove very useful. For example, the Time-Independent Schrodinger Equation may be stated as. \n",
    "\n",
    "$$\\hat{H}\\psi = E\\psi \\text{ ,}$$\n",
    "\n",
    "where $\\hat{H} = -\\dfrac{\\hbar^2}{2m}\\nabla^2 + V$ is the Hamiltonian operator. \n",
    "\n",
    "For this notebook, we cocentrate on a subset of matrices:\n",
    "\n",
    "**Dense Matrix**: Matrix with mostly non-zero elements.\n",
    "\n",
    "Note however, that we only cover the diagonalisation of real symmetric matrices, and Hermitian matrices.\n",
    "\n",
    "**Real Symmetric Matrix**: A matrix whose elements are equal to their counterpart opposite the diagonal. $A_{ij} = A_{ji}$. This is to say that the matrix is equal to its transpose $A^T$. \n",
    "\n",
    "**Hermitian Matrix**: A matrix whose elements are equal to the complex conjugate of their conterpart opposite the primary diagonal. $H_{ij} = H^{*}_{ji}$. This is to say the matrix is equal to its **Hermitian Conjugate**."
   ]
  },
  {
   "cell_type": "markdown",
   "metadata": {},
   "source": [
    "## **Constructing the Method**"
   ]
  },
  {
   "cell_type": "markdown",
   "metadata": {},
   "source": [
    "The compuational diagonalisation of a dense real symmetric matrix $A$ follows two main steps (Thijssen, page 595):\n",
    "\n",
    "1. Transfrom $A$ into a tridiagonal matrix $B$ by successive left-transpose and right multiplications by a sequence of matrices $O_i$.\n",
    "2. Transfrom $B$ into an upper-triangular matrix $U$ by the **QR Algorithm**.\n",
    "\n",
    "An alternative for step 2 is suggested by Sastry. \n",
    "\n",
    "**Tridiagonal Matrix**: A matrix whose elements are all necessarily zero, apart from those on the primary diagonal, or horizontally or vertically neighbouring a primary diagonal element. \n",
    "\n",
    "The eigenvalues are on the diagonal of $U$. This method is known as the **Householder Method**. "
   ]
  },
  {
   "cell_type": "markdown",
   "metadata": {},
   "source": [
    "#### **Step 1: Symmetric to Tridiagonal**"
   ]
  },
  {
   "cell_type": "markdown",
   "metadata": {},
   "source": [
    "In order to transform a Hermitian matrix into a tridiagonal one, we make use of **Householder Reflections**. The version of the method used here, comes from Thijssen A8.2. \n",
    "\n",
    "Let $A$ be an $n \\times n$ real symmetric matrix. To transform into a tridiagonal matrix $B$:\n",
    "\n",
    "1. Set $i = n$ and $B = A$.\n",
    "2. Set $c$ to the $i^\\text{th}$ column of $B$. Set $X_j = 0$ for $i \\leq j \\leq n$.\n",
    "3. Set $u = c - |c|e_{i - 1}$, where $e_k$ is the $k^\\text{th}$ standard basis vector.\n",
    "4. Set $P = I - 2uu^T$. \n",
    "5. Set $B = PBP$.\n",
    "6. Set $i = i - 1$. \n",
    "7. If $i > 2$, then go back to 2. \n",
    "8. Final result is $B$. \n",
    "\n",
    "Now we shall write a function to do this."
   ]
  },
  {
   "cell_type": "code",
   "execution_count": 4,
   "metadata": {},
   "outputs": [],
   "source": [
    "def I(n):\n",
    "    M = numpy.zeros((n, n), dtype = float)\n",
    "    for i in range(n):\n",
    "        M[i, i] = 1.0\n",
    "    return M\n",
    "\n",
    "def basis(n, k):\n",
    "    E = numpy.zeros((n, 1), dtype = float)\n",
    "    E[k, 0] = 1.0\n",
    "    return E\n",
    "\n",
    "def norm(M):\n",
    "    N = numpy.copy(M)\n",
    "    y = (transpose(N)@N)[0, 0]\n",
    "    y = y**0.5\n",
    "    return y\n",
    "\n",
    "def isTri(A):\n",
    "    res = True\n",
    "    n = len(A)\n",
    "    for j in range(2, n):\n",
    "        if(A[0, j] != 0.0): return False\n",
    "    for j in range(n - 2):\n",
    "        if(A[n - 1, j] != 0.0): return False\n",
    "    for i in range(1, n - 1):\n",
    "        for j in range(i - 1):\n",
    "            if(A[i, j] != 0.0): return False\n",
    "        for j in range(i + 2, n):\n",
    "            if(A[i, j] != 0.0): return False\n",
    "    return True\n",
    "\n",
    "def sym2tri(A):\n",
    "    B = numpy.copy(A)\n",
    "    n = len(A)\n",
    "    M = I(n)\n",
    "    for i in range(n, 2, -1):\n",
    "        if(isTri(B)): return B, M\n",
    "        C = numpy.zeros((n, 1), dtype = float)\n",
    "        C[0:(i - 1), 0] = B[0:(i - 1), i - 1]\n",
    "        U = C - norm(C)*basis(n, i - 2)\n",
    "        P = I(n) - 2.0*(U@transpose(U))/(norm(U)**2.0)\n",
    "        B = P@(B@P)\n",
    "        M = M@P\n",
    "    return B, M"
   ]
  },
  {
   "cell_type": "code",
   "execution_count": 5,
   "metadata": {},
   "outputs": [
    {
     "name": "stdout",
     "output_type": "stream",
     "text": [
      "Original Matrix: [[-0.4  0.1  0.8 -0.6]\n",
      " [ 0.1  0.9  0.5  0.3]\n",
      " [ 0.8  0.5  0.3  0.7]\n",
      " [-0.6  0.3  0.7  0.4]]\n",
      "Tridiagonal: [[ 4.103e-01  1.282e-01 -3.691e-16 -1.648e-16]\n",
      " [ 1.282e-01  8.302e-01  9.422e-01 -2.543e-17]\n",
      " [-4.524e-16  9.422e-01 -4.404e-01  9.695e-01]\n",
      " [-1.648e-16 -2.543e-17  9.695e-01  4.000e-01]]\n"
     ]
    }
   ],
   "source": [
    "#test the above code\n",
    "A = numpy.zeros((4, 4), dtype = float)\n",
    "for i in range(4):\n",
    "    for j in range(i + 1):\n",
    "        if(i == j): A[i, j] = 0.1*random.randint(-10, 10)\n",
    "        else:\n",
    "            A[i, j] = 0.1*random.randint(-10, 10) \n",
    "            A[j, i] = A[i, j]\n",
    "\n",
    "numpy.set_printoptions(precision=3)\n",
    "\n",
    "print(\"Original Matrix: {}\".format(A))\n",
    "B, P = sym2tri(A)\n",
    "print(\"Tridiagonal: {}\".format(B))"
   ]
  },
  {
   "cell_type": "markdown",
   "metadata": {},
   "source": [
    "Our algorithm is seen to work."
   ]
  },
  {
   "cell_type": "markdown",
   "metadata": {},
   "source": [
    "#### **Step 2: Tridiagonal to Upper-Triangular**"
   ]
  },
  {
   "cell_type": "markdown",
   "metadata": {},
   "source": [
    "This step requires an understanding of **QR factorisation**, which is discussed in *QR Decomposition* (see References). To give the QR factoristion of a matrix $A$, is to find unitary matrix $Q$ and upper-triangular matrix $R$ such that,\n",
    "\n",
    "$$A = QR \\text{ .}$$\n",
    "\n",
    "**Unitary Matrix**: A matrix whose Hermitian conjugate is also the inverse. \n",
    "\n",
    "To find these matrices, we first apply the Gramm-Schmidt procedure to find an orthogonal set of unit vectors $e_i$, given the initial set of vectors from the matrix columns.\n",
    "\n",
    "Let $A = \\begin{pmatrix} a_1 | a_2 | a_3 | \\cdots | a_n \\end{pmatrix}$. Then $e_i$ are found as follows.\n",
    "\n",
    "1. Set $i = 1$.\n",
    "2. Set $u_i = a_1 - \\sum_{k = 2}^i (a_k \\cdot e_k)e_k$.\n",
    "3. Set $e_i = \\dfrac{u_i}{|u_i|}$.\n",
    "4. Set $i = i + 1$.\n",
    "5. If $i \\leq N$, then fo back to 2. \n",
    "\n",
    "Once we have $e_i$ note that,\n",
    "\n",
    "$$A =\n",
    "\\begin{pmatrix}\n",
    "e_1 | e_2 | e_3 | \\cdots | e_n\n",
    "\\end{pmatrix}\n",
    "\\begin{pmatrix}\n",
    "a_1 \\cdot e_1 & a_2 \\cdot e_1 & \\cdots & a_n \\cdot e_1 \\\\\n",
    "0 & a_2 \\cdot e_2 & \\cdots & a_n \\cdot e_2 \\\\\n",
    "\\vdots & \\vdots & \\ddots & \\vdots\\\\\n",
    "0 & 0 & \\cdots & a_n \\cdot e_n\n",
    "\\end{pmatrix}\n",
    "$$\n",
    "\n",
    "This is the QR factorisation of $A$. \n",
    "\n",
    "$Q = \\begin{pmatrix}\n",
    "e_1 | e_2 | e_3 | \\cdots | e_n\n",
    "\\end{pmatrix}$$\n",
    "\n",
    "AND \n",
    "\n",
    "$$R = \\begin{pmatrix}\n",
    "a_1 \\cdot e_1 & a_2 \\cdot e_1 & \\cdots & a_n \\cdot e_1 \\\\\n",
    "0 & a_2 \\cdot e_2 & \\cdots & a_n \\cdot e_2 \\\\\n",
    "\\vdots & \\vdots & \\ddots & \\vdots\\\\\n",
    "0 & 0 & \\cdots & a_n \\cdot e_n\n",
    "\\end{pmatrix}$$\n",
    "\n",
    "With this method of factorisation, we set up the iteration scheme, $A_k = R_{k - 1} Q_{k - 1}$.\n",
    "\n",
    "$A_k$ converges to an upper-triangular matrix $B$. The diagonal elements of this matrix are the eigenvalues of $A$.\n",
    "\n",
    "Now we shall write the code for this. "
   ]
  },
  {
   "cell_type": "code",
   "execution_count": 6,
   "metadata": {},
   "outputs": [],
   "source": [
    "def gramm_schmidt(A):\n",
    "    E = numpy.copy(A)\n",
    "    n = len(A)\n",
    "    for k in range(n):\n",
    "        Ek = E[:, k]\n",
    "        for i in range(0, k):\n",
    "            Ek = Ek - numpy.dot(A[:, k], E[:, i])*E[:, i]\n",
    "        Ek = numpy.dot(Ek, Ek)**(-0.5)*Ek\n",
    "        E[:, k] = Ek\n",
    "    return E\n",
    "\n",
    "def QR(A):\n",
    "    Q = gramm_schmidt(A)\n",
    "    n = len(A)\n",
    "    R = numpy.zeros((n, n), dtype = float)\n",
    "    for i in range(n):\n",
    "        for j in range(i, n):\n",
    "            R[i, j] = numpy.dot(A[:, j], Q[:, i])\n",
    "    return Q, R"
   ]
  },
  {
   "cell_type": "code",
   "execution_count": 7,
   "metadata": {},
   "outputs": [],
   "source": [
    "def dense_sym_diagonalise_QR(A, N):\n",
    "    n = len(A)\n",
    "    B = numpy.copy(A)\n",
    "    \n",
    "    B, M = sym2tri(B)\n",
    "    \n",
    "    for i in range(N):\n",
    "        Q, R = QR(B)\n",
    "        B = R@Q\n",
    "        M = M@Q\n",
    "    D = numpy.copy(B)\n",
    "    for i in range(n):\n",
    "        for j in range(n):\n",
    "            if(not i == j): D[i, j] = 0.0\n",
    "                \n",
    "    return D, M"
   ]
  },
  {
   "cell_type": "markdown",
   "metadata": {},
   "source": [
    "#### **Step 2 (Alternative): Characteristic Equation of the Tridiagonal Matix**"
   ]
  },
  {
   "cell_type": "markdown",
   "metadata": {},
   "source": [
    "A method of obtaining the eigenvalues of a tridiagonal matrix $B$, is given by Sastry. The method is based on the characteristic polynomial of the matrix, $\\phi(t) = \\det(B - t I)$. The roots of charcteristic equation $\\phi(t) = 0$ are the eigenvalues $\\lambda$ of $B$. To compute the characterisitc equation, we employ the recurrence given by Sastry 7.7.1.\n",
    "$$\\phi_0(t) := 1$$\n",
    "$$\\phi_1(t) := a_{1,1} - t$$\n",
    "$$\\phi_k(t) := (a_{k,k} - t)\\phi_{k - 1}(t) - a_{k - 1, k}^2 \\phi_{k - 2}(t)$$\n",
    "Sastry claims that $\\phi_k$ defines a Sturm sequence. These are pivotal in Sturm's Theorem, described in *Finding All the Roots: Sturm's Theorem* (see References). The theorem states that the number of roots on an interval $(a, b)$, of a function $\\phi_n$ in a Sturm sequence is,\n",
    "$$|\\sigma(b) - \\sigma(a)| \\text{ ,}$$\n",
    "where $\\sigma(c)$ is the number of sign changes in the sequence $\\phi_k(c)$ ($0 \\leq k \\leq n$). This provides us with a means of isolating the roots of $\\phi_n$, as now we may divide our initial interval until the difference above is one. So given we wish to find all eigenvalues in $(a, b)$, execute the following:\n",
    "\n",
    "1. Evaluate $\\phi_k(a)$ and $\\phi_k(b)$ for all $0 \\leq k \\leq n$. \n",
    "2. Compute $\\sigma(b)$, $\\sigma(a)$, and hence $N = \\sigma(a) - \\sigma(b)$. \n",
    "3. If N = 0, terminate. Otherwise, continue.\n",
    "4. If N = 1, then perform interval bisection to find single eigenvalue and return to any parent process. Otherwise, continue. \n",
    "5. If N > 1, then set $c = \\dfrac{a + b}{2}$. Now perform this algorithm for both intervals $(a, c)$ and $(c, b)$. Record the result from both of these.\n",
    "6. We now have a complete set of eigenvalues on $(a, b)$.\n",
    "\n",
    "I shall now write the code to do this. "
   ]
  },
  {
   "cell_type": "code",
   "execution_count": 31,
   "metadata": {},
   "outputs": [],
   "source": [
    "def phi(A, k, t):\n",
    "    y = 0.0\n",
    "    if(k == 0): y = 1.0\n",
    "    elif(k == 1): y = A[0, 0] - t\n",
    "    else:\n",
    "        y = (A[k - 1, k - 1] - t)*phi(A, k - 1, t) - A[k - 2, k - 1]**2.0*phi(A, k - 2, t)\n",
    "    return y\n",
    "\n",
    "def diff(a, b):\n",
    "    if(a >= 0 and b <= 0): return True\n",
    "    elif(a <= 0 and b >= 0): return True\n",
    "    else: return False\n",
    "    \n",
    "def sigma(A, c):\n",
    "    n = len(A)\n",
    "    s = 0\n",
    "    p = phi(A, 0, c)\n",
    "    for i in range(n):\n",
    "        q = phi(A, i + 1, c)\n",
    "        if(diff(p, q)): s = s + 1\n",
    "        p = q\n",
    "    return s\n",
    "\n",
    "def bisect_solve(A, a, b, M):\n",
    "    n = len(A)\n",
    "    p = phi(A, n, a)\n",
    "    q = phi(A, n, b)\n",
    "    for i in range(M):\n",
    "        c = 0.5*(a + b)\n",
    "        r = phi(A, n, c)\n",
    "        if(diff(p, r)): \n",
    "            b = c\n",
    "            q = r\n",
    "        else: \n",
    "            a = c\n",
    "            p = r\n",
    "    x = 0.5*(a + b)\n",
    "    return x\n",
    "\n",
    "def sturm_solve(A, a, b, M):\n",
    "    n = len(A)\n",
    "    p = sigma(A, a)\n",
    "    q = sigma(A, b)\n",
    "    N = abs(p - q)\n",
    "    sol = []\n",
    "    if(N == 0):\n",
    "        return sol\n",
    "    elif(N == 1):\n",
    "        x = bisect_solve(A, a, b, M)\n",
    "        sol.append(x)\n",
    "    else:\n",
    "        c = 0.5*(a + b)\n",
    "        X = sturm_solve(A, a, c, M)\n",
    "        Y = sturm_solve(A, c, b, M)\n",
    "        sol = sol + X + Y\n",
    "    return sol\n",
    "\n",
    "def dense_sym_eigen_char(A, a, b, M):\n",
    "    B, P = sym2tri(A)\n",
    "    lam = sturm_solve(B, a, b, M)\n",
    "    lam = numpy.array(lam)\n",
    "    return lam"
   ]
  },
  {
   "cell_type": "markdown",
   "metadata": {},
   "source": [
    "As a test, compute the eigenvalues of $\\begin{pmatrix} 1 & 7 \\\\ 7 & 3 \\end{pmatrix}$. Analytically, these are found to be $2 \\pm 5\\sqrt{2}$.\n",
    "\n",
    "First with the QR approach."
   ]
  },
  {
   "cell_type": "code",
   "execution_count": 16,
   "metadata": {},
   "outputs": [
    {
     "name": "stdout",
     "output_type": "stream",
     "text": [
      "A = [[1. 7.]\n",
      " [7. 3.]]\n",
      "D = [[ 9.071  0.   ]\n",
      " [ 0.    -5.071]]\n",
      "M = [[ 0.655 -0.755]\n",
      " [ 0.755  0.655]]\n",
      "M*AM = [[ 9.071e+00 -5.882e-15]\n",
      " [-5.423e-15 -5.071e+00]]\n",
      "Av - lam v = [ 3.553e-15 -4.441e-15]\n"
     ]
    }
   ],
   "source": [
    "A = numpy.array([[1.0, 7.0], [7.0, 3.0]], dtype = float)\n",
    "D, M = dense_sym_diagonalise_QR(A, 1000)\n",
    "\n",
    "print(\"A = {}\".format(A))\n",
    "print(\"D = {}\".format(D))\n",
    "print(\"M = {}\".format(M))\n",
    "\n",
    "print(\"M*AM = {}\".format(transpose(M)@A@M)) #note: using 'tranpose' because example matrix is real\n",
    "\n",
    "#check M contains eigenvector\n",
    "print(\"Av - lam v = {}\".format(A@M[:, 0] - D[0, 0]*M[:, 0]))"
   ]
  },
  {
   "cell_type": "markdown",
   "metadata": {},
   "source": [
    "Then with the characteristic equation approach. "
   ]
  },
  {
   "cell_type": "code",
   "execution_count": 26,
   "metadata": {},
   "outputs": [
    {
     "name": "stdout",
     "output_type": "stream",
     "text": [
      "[-5.071  9.071]\n"
     ]
    }
   ],
   "source": [
    "A = numpy.array([[1.0, 7.0], [7.0, 3.0]], dtype = float)\n",
    "\n",
    "\n",
    "lam = dense_sym_eigen_char(A, -100.0, 100.0, 1000)\n",
    "\n",
    "print(lam)"
   ]
  },
  {
   "cell_type": "markdown",
   "metadata": {},
   "source": [
    "The test of the Householder with QR Method was successful, as the final difference shows that the obtained results were indeed the eigenpairs. The second method is perfectly consistent with the first, although it has the disadvantage of not giving eigenvectors. This is because I have not yet learned how to account for degeneracy. "
   ]
  },
  {
   "cell_type": "markdown",
   "metadata": {},
   "source": [
    "**Degenerate Eigenvalue**: An eigenvalue with more than one eigenvector associated with it. "
   ]
  },
  {
   "cell_type": "markdown",
   "metadata": {},
   "source": [
    "#### **Adapting the Method for Hermitian Matices**"
   ]
  },
  {
   "cell_type": "markdown",
   "metadata": {},
   "source": [
    "The methods developed above were built for real symmetric matrices. We often desire however, to diagonalise complex Hermitian matrices. Thijssen claims that the Householder method has an analogous form for these, however experimenting with the code, this generalisation eludes me. I shall instead attempt something a little more cunning. \n",
    "\n",
    "Consider a Hermitian matrix $H$. By considering the real and imaginary parts of each element, we may decompose $H$ using two real matrices, \n",
    "\n",
    "$$H = A + iB \\text{ .}$$\n",
    "\n",
    "Note that $A$ is symmetric and $B$ is anti-symmetric. \n",
    "\n",
    "**Anti-symmetric Matrix**: A matrix whose elements are equal to the negative of their counterpart opposite the diagonal. $A_{ij} = -A_{ji}$. This is to say that the matrix is equal to the negative transpose. \n",
    "\n",
    "Now suppose we wish to solve the eigenvalue problem,\n",
    "\n",
    "$$H\\vec{v} = \\lambda \\vec{v} \\text{ .}$$\n",
    "\n",
    "After writing $\\vec{v} = \\vec{a} + i\\vec{b}$, we may restate the problem as,\n",
    "\n",
    "$$(A + iB)(\\vec{a} + i\\vec{b}) = \\lambda ( \\vec{a} + i \\vec{b} ) \\text{ .}$$\n",
    "\n",
    "Expanding this we get,\n",
    "\n",
    "$$A \\vec{a} + iA \\vec{b} + iB \\vec{a} - B\\vec{b} = \\lambda (\\vec{a} + i \\vec{b}) \\text{ .}$$\n",
    "\n",
    "Now we collect the real and imaginary parts. Note that since $H$ is Hermitian, $\\lambda \\in \\mathbb{R}$. \n",
    "\n",
    "$$A \\vec{a} - B \\vec{b} = \\lambda \\vec{a}$$\n",
    "\n",
    "$$B \\vec{a} + A \\vec{b} = \\lambda \\vec{b}$$\n",
    "\n",
    "This may be expressed as a new eigenvalue problem,\n",
    "\n",
    "$$\\begin{pmatrix} A & -B \\\\ B & A \\end{pmatrix} \\begin{pmatrix} \\vec{a} \\\\ \\vec{b} \\end{pmatrix} = \\lambda \\begin{pmatrix} \\vec{a} \\\\ \\vec{b} \\end{pmatrix} \\text{ .}$$\n",
    "\n",
    "The matrix on the left is a real symmetric matrix. This means that we can now apply our method from above. Note that because the dimension has doubled, we will need to be crafty with the list of eigenvalues. "
   ]
  },
  {
   "cell_type": "code",
   "execution_count": 33,
   "metadata": {},
   "outputs": [],
   "source": [
    "def herm(A):\n",
    "    B = numpy.copy(A)\n",
    "    B = transpose(B).conj()\n",
    "    return B\n",
    "\n",
    "def dense_herm_diagonalise_QR(H, N):\n",
    "    n = len(H)\n",
    "    A = numpy.real(H)\n",
    "    B = numpy.imag(H)\n",
    "    C = numpy.zeros((2*n, 2*n), dtype = float)\n",
    "    C[0:n, 0:n] = A[:, :]\n",
    "    C[0:n, n:] = -B[:, :]\n",
    "    C[n:, 0:n] = B[:, :]\n",
    "    C[n:, n:] = A[:, :]\n",
    "    \n",
    "    Dc, Mc = dense_sym_diagonalise_QR(C, N)\n",
    "\n",
    "    D = numpy.zeros((n, n), dtype = complex)\n",
    "    M = numpy.zeros((n, n), dtype = complex)\n",
    "\n",
    "    TRACKER = numpy.copy(Dc) # matrix to aid selection of eigenvalues\n",
    "    for j in range(n):\n",
    "        pri = []\n",
    "        for i in range(2*n): pri.append(abs(TRACKER[i, i]))\n",
    "        k = pri.index(max(pri))\n",
    "        D[j, j] = Dc[k, k]\n",
    "        for i in range(n): M[i, j] = Mc[i, k] + 1.0j*Mc[n + i, k]\n",
    "        TRACKER = TRACKER - Dc[k, k]*I(2*n)\n",
    "\n",
    "    return D, M"
   ]
  },
  {
   "cell_type": "code",
   "execution_count": 12,
   "metadata": {},
   "outputs": [
    {
     "name": "stdout",
     "output_type": "stream",
     "text": [
      "H = [[ 3.+0.j  1.+1.j]\n",
      " [ 1.-1.j -5.+0.j]]\n",
      "D = [[-5.243+0.j  0.   +0.j]\n",
      " [ 0.   +0.j  3.243+0.j]]\n",
      "M = [[ 0.12 +1.196e-01j -0.697-6.969e-01j]\n",
      " [-0.986-8.942e-16j -0.169+8.857e-15j]]\n",
      "M*HM = [[-5.243e+00-2.776e-17j -6.106e-16+4.380e-14j]\n",
      " [-6.661e-16-4.374e-14j  3.243e+00+2.220e-16j]]\n",
      "Hv - lam v = [ 3.331e-15-2.887e-15j -3.553e-15-7.721e-16j]\n"
     ]
    }
   ],
   "source": [
    "H = numpy.array([[3.0, 1.0 + 1.0j], [1.0 - 1.0j, -5.0]], dtype = complex)\n",
    "D, M = dense_herm_diagonalise_QR(H, 1000)\n",
    "\n",
    "\n",
    "print(\"H = {}\".format(H))\n",
    "print(\"D = {}\".format(D))\n",
    "print(\"M = {}\".format(M))\n",
    "\n",
    "print(\"M*HM = {}\".format(herm(M)@H@M)) \n",
    "\n",
    "#check M contains eigenvector\n",
    "print(\"Hv - lam v = {}\".format(H@M[:, 0] - D[0, 0]*M[:, 0]))\n"
   ]
  },
  {
   "cell_type": "markdown",
   "metadata": {},
   "source": [
    "The method for diagonalising a Hermitian matrix clearly works here."
   ]
  },
  {
   "cell_type": "markdown",
   "metadata": {},
   "source": [
    "## **Convergence**"
   ]
  },
  {
   "cell_type": "markdown",
   "metadata": {},
   "source": [
    "Since our method involved an iteration scheme, it makes sense to study the convergence. To do this, we look at how the square difference between the returned eigenvalue vector and the true eigenvalue vector evolves with step number. "
   ]
  },
  {
   "cell_type": "code",
   "execution_count": 31,
   "metadata": {},
   "outputs": [
    {
     "name": "stdout",
     "output_type": "stream",
     "text": [
      "A = \n",
      "[[ 0.9+0.3j -0.8+0.6j -0.3-0.2j -0.3+0.6j  0.8-0.7j]\n",
      " [-0.8-0.6j -0.8+0.8j  0.8-0.8j -0.5+0.6j -0.1-0.6j]\n",
      " [-0.3+0.2j  0.8+0.8j -0.7-0.3j  0.2+0.4j  0.3-0.2j]\n",
      " [-0.3-0.6j -0.5-0.6j  0.2-0.4j -0.7-0.5j -0.3+0.6j]\n",
      " [ 0.8+0.7j -0.1+0.6j  0.3+0.2j -0.3-0.6j  0.9+1.j ]]\n"
     ]
    }
   ],
   "source": [
    "n = 5\n",
    "A = numpy.zeros((n, n), dtype = complex)\n",
    "for i in range(n):\n",
    "    for j in range(i + 1):\n",
    "        A[i, j] = random.randint(-10, 10) + random.randint(-10, 10)*1.0j\n",
    "        A[i, j] = 0.1*A[i, j]\n",
    "        A[j, i] = numpy.conj(A[i, j])\n",
    "print(\"A = \")\n",
    "print(A)\n",
    "\n",
    "N = 100\n",
    "dN = 10\n",
    "\n",
    "D, P = dense_herm_diagonalise_QR(A, 100*N)\n",
    "\n",
    "lam = numpy.zeros((n), dtype = float)\n",
    "\n",
    "for i in range(n): lam[i] = numpy.real(D[i, i])\n",
    "\n",
    "lam_true = max(abs(lam))\n",
    "\n",
    "LAM = numpy.zeros((int(N/dN)), dtype = float)\n",
    "\n",
    "for i in range(0, N, dN):\n",
    "    D, P = dense_herm_diagonalise_QR(A, i)\n",
    "    for j in range(n): lam[j] = numpy.real(D[j, j])\n",
    "    lam_i = max(abs(lam))\n",
    "    LAM[int(i/dN)] = lam_i"
   ]
  },
  {
   "cell_type": "code",
   "execution_count": 32,
   "metadata": {},
   "outputs": [],
   "source": [
    "ERR = LAM - lam_true\n",
    "Ns = numpy.arange(0, N, step = dN, dtype = int)\n",
    "m, c = numpy.polyfit(Ns, log(abs(ERR)), 1)"
   ]
  },
  {
   "cell_type": "code",
   "execution_count": 33,
   "metadata": {},
   "outputs": [
    {
     "data": {
      "image/png": "[encoded data removed]",
      "text/plain": [
       "<Figure size 432x288 with 1 Axes>"
      ]
     },
     "metadata": {
      "needs_background": "light"
     },
     "output_type": "display_data"
    },
    {
     "name": "stdout",
     "output_type": "stream",
     "text": [
      "Gradient: -0.05104611752547952\n"
     ]
    }
   ],
   "source": [
    "pyplot.plot(Ns, log(abs(ERR)), linestyle = \"None\", marker = \"+\", ms = 6, color = \"k\")\n",
    "pyplot.plot(Ns, m*Ns + c)\n",
    "pyplot.xlabel(\"Iteration Nuumber\")\n",
    "pyplot.ylabel(\"Log(Error)\")\n",
    "pyplot.title(\"Error in the Highest Magnitude Eigenvalue\")\n",
    "pyplot.show()\n",
    "\n",
    "print(\"Gradient: {}\".format(m))"
   ]
  },
  {
   "cell_type": "markdown",
   "metadata": {},
   "source": [
    "We see that we have exponential convergence. The decay constant appears very dependent on the particular elements in $A$. "
   ]
  },
  {
   "cell_type": "markdown",
   "metadata": {},
   "source": [
    "## **Execution Time**"
   ]
  },
  {
   "cell_type": "markdown",
   "metadata": {},
   "source": [
    "We now study the dependence of diagonalisation execution time on the dimension $n$ of the matrix $A$."
   ]
  },
  {
   "cell_type": "code",
   "execution_count": 34,
   "metadata": {},
   "outputs": [],
   "source": [
    "def get_mean_time(n, N, M):\n",
    "    A = numpy.zeros((n, n), dtype = complex)\n",
    "    for i in range(n):\n",
    "        for j in range(i + 1):\n",
    "            A[i, j] = random.randint(-10, 10) + random.randint(-10, 10)*1.0j\n",
    "            A[i, j] = 0.1*A[i, j]\n",
    "            A[j, i] = A[i, j].conj()\n",
    "    t1 = time.time()\n",
    "    for i in range(N): dense_herm_diagonalise_QR(A, M)\n",
    "    t2 = time.time()\n",
    "    t_avg = (t2 - t1)/N\n",
    "    return t_avg"
   ]
  },
  {
   "cell_type": "code",
   "execution_count": 35,
   "metadata": {},
   "outputs": [],
   "source": [
    "def get_grad(ns, T, i, j):\n",
    "    m, c = numpy.polyfit(log(ns), log(T), 1)\n",
    "    return m"
   ]
  },
  {
   "cell_type": "code",
   "execution_count": 37,
   "metadata": {},
   "outputs": [
    {
     "name": "stdout",
     "output_type": "stream",
     "text": [
      "10\n",
      "30\n",
      "50\n",
      "70\n",
      "90\n",
      "110\n",
      "130\n",
      "150\n",
      "170\n",
      "190\n",
      "210\n",
      "230\n",
      "250\n",
      "270\n",
      "290\n",
      "310\n",
      "330\n",
      "350\n",
      "370\n",
      "390\n"
     ]
    }
   ],
   "source": [
    "ns = numpy.arange(10, 400, 20, dtype = int)\n",
    "T = numpy.zeros((len(ns)), dtype = float)\n",
    "for i in range(len(ns)):\n",
    "    print(ns[i])\n",
    "    T[i] = get_mean_time(ns[i], 1, 1)"
   ]
  },
  {
   "cell_type": "code",
   "execution_count": 38,
   "metadata": {},
   "outputs": [
    {
     "data": {
      "image/png": "[encoded data removed]",
      "text/plain": [
       "<Figure size 432x288 with 1 Axes>"
      ]
     },
     "metadata": {
      "needs_background": "light"
     },
     "output_type": "display_data"
    },
    {
     "data": {
      "image/png": "[encoded data removed]",
      "text/plain": [
       "<Figure size 432x288 with 1 Axes>"
      ]
     },
     "metadata": {
      "needs_background": "light"
     },
     "output_type": "display_data"
    }
   ],
   "source": [
    "pyplot.figure()\n",
    "pyplot.plot(log(ns), log(T), linestyle = \"None\", marker = \"+\", ms = 6, color = \"k\")\n",
    "pyplot.xlabel(\"Log(n)\")\n",
    "pyplot.ylabel(\"Log(Mean Diagonalisation Time / seconds)\")\n",
    "pyplot.show()\n",
    "\n",
    "Ms = []\n",
    "for i in range(len(ns) - 5):\n",
    "    m, c = numpy.polyfit(log(ns)[i:38], log(T)[i:38], 1)\n",
    "    Ms.append(m)\n",
    "    \n",
    "    \n",
    "pyplot.figure()\n",
    "pyplot.plot(ns[:len(ns) - 5], Ms, linestyle = \"None\", marker = \"+\", ms = 6, color = \"k\")\n",
    "pyplot.show()"
   ]
  },
  {
   "cell_type": "markdown",
   "metadata": {},
   "source": [
    "The data is consistent with the claim by Thijssen, that the execution time grows with $n^3$. "
   ]
  },
  {
   "cell_type": "markdown",
   "metadata": {},
   "source": [
    "## **Evaluation**"
   ]
  },
  {
   "cell_type": "markdown",
   "metadata": {},
   "source": [
    "In writing this notebook, I have learned:\n",
    "1. The Householder Method for diagonalising a real symmetric matrix.\n",
    "2. QR Factorisation of a tridiagonal matrix.\n",
    "3. Sturm's Theorem for isolating roots. \n",
    "4. A way of expressing a Hermitian eigenvalue problem as a real symmetric eigenvalue problem.\n",
    "4. The convergence rate of the Householder method.\n",
    "5. The time-scaling of the Householder method."
   ]
  },
  {
   "cell_type": "markdown",
   "metadata": {},
   "source": [
    "I intend to use these methods soon for a notebook on [Variational Quantum Mechanics](VariationalQM.ipynb), I subject which after reading about, I was inspired to write this notebook.  "
   ]
  },
  {
   "cell_type": "markdown",
   "metadata": {},
   "source": [
    "## **References**"
   ]
  },
  {
   "cell_type": "markdown",
   "metadata": {},
   "source": [
    "**Books**:\n",
    "\n",
    "*Computational Physics* by Thijssen; Second Edition (2007); Cambridge University Press; ISBN-978-1-107-67713-5\n",
    "\n",
    "*Introductory Methods of Numerical Analysis* by Sastry; Fifth Edition (2012); PHI Learning; ISBN-978-81-203-4592-8\n",
    "\n",
    "**Web**:\n",
    "\n",
    "*QR Decomposition with Gramm-Schmidt*; PDF found at: https://www.math.ucla.edu/~yanovsky/Teaching/Math151B/handouts/GramSchmidt.pdf; accessed 9th Jan 2019. Copy of PDF [here](QR.pdf).\n",
    "\n",
    "*Finding All the Roots: Sturm's Theorem*; PDF found at http://web.math.ucsb.edu/~padraic/mathcamp_2013/root_find_alg/Mathcamp_2013_Root-Finding_Algorithms_Day_2.pdf; accessed 19th Jan 2019. Copy of PDF [here](Sturm.pdf).\n"
   ]
  }
 ],
 "metadata": {
  "kernelspec": {
   "display_name": "Python 3",
   "language": "python",
   "name": "python3"
  },
  "language_info": {
   "codemirror_mode": {
    "name": "ipython",
    "version": 3
   },
   "file_extension": ".py",
   "mimetype": "text/x-python",
   "name": "python",
   "nbconvert_exporter": "python",
   "pygments_lexer": "ipython3",
   "version": "3.6.5"
  }
 },
 "nbformat": 4,
 "nbformat_minor": 2
}
